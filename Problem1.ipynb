{
 "cells": [
  {
   "cell_type": "code",
   "execution_count": 1,
   "metadata": {},
   "outputs": [],
   "source": [
    "import numpy as np"
   ]
  },
  {
   "cell_type": "code",
   "execution_count": 48,
   "metadata": {},
   "outputs": [
    {
     "name": "stdout",
     "output_type": "stream",
     "text": [
      "35.2\n",
      "0.0 0.0 0.0 0.0 0.0 0.0 \n",
      "0.0 0.0 0.0 0.0 0.0 0.0 \n",
      "0.0 0.0 0.0 0.7798639028859753 0.37827972759805284 0.0 \n",
      "0.0 0.0 2.531641330258995 2.779196810137277 2.644548074184935 1.4149300658387904 \n",
      "0.0 5.016929993129532 6.152605074762977 7.366377576931926 8.441422851740711 8.872559315972083 \n",
      "8.895721550493692 11.195617431043008 14.005285875788143 17.346792108940683 21.129921015416617 25.00000000000001 \n",
      "0.0 24.558710434348995 30.990156871841297 38.935152196260574 48.56933837454895 59.87627693642595 \n",
      "0.0 0.0 67.72084676499155 85.62089978386886 107.90824636005705 135.29771030439443 \n",
      "0.0 0.0 0.0 186.58081609979405 236.23116061248766 298.3997702418117 \n",
      "0.0 0.0 0.0 0.0 513.7349246901518 651.1149172218592 \n",
      "0.0 0.0 0.0 0.0 0.0 1413.8764357268503 \n"
     ]
    },
    {
     "data": {
      "text/plain": [
       "8.895721550493692"
      ]
     },
     "execution_count": 48,
     "metadata": {},
     "output_type": "execute_result"
    }
   ],
   "source": [
    "from datetime import datetime\n",
    "\n",
    "def datetime_conversion(str):\n",
    "    return datetime.strptime(str, '%d%b%Y')\n",
    "\n",
    "def cal_dur(t_e, t_d):\n",
    "    date1 = datetime_conversion(t_e)\n",
    "    date2 = datetime_conversion(t_d)\n",
    "    delta = date1 - date2\n",
    "    #print(delta)\n",
    "    return int(delta.days)\n",
    "    \n",
    "def price_xyz(A_t_d, B, t_e, r, sigma, t_d, numsteps):\n",
    "    \n",
    "    #Calculate time step\n",
    "    duration = cal_dur(t_e, t_d)\n",
    "    ts = duration/numsteps\n",
    "\n",
    "    #Calculate probabilities of moving up and down, underlying log-normal\n",
    "    num_pu =  np.exp(r*ts/2) - np.exp(-1*sigma*np.sqrt(ts/2))\n",
    "    den_pu = np.exp(sigma*np.sqrt(ts/2)) - np.exp(-1*sigma*np.sqrt(ts/2))\n",
    "    p_u = np.square(num_pu/den_pu)\n",
    "    \n",
    "    num_pd =  np.exp(1*sigma*np.sqrt(ts/2)) - np.exp(r*ts/2)\n",
    "    den_pd = np.exp(sigma*np.sqrt(ts/2)) - np.exp(-1*sigma*np.sqrt(ts/2))\n",
    "    p_d = np.square(num_pd/den_pd)\n",
    "    \n",
    "    #Upward and downward multiplier\n",
    "    j_u = np.exp(sigma*np.sqrt(ts))\n",
    "    j_d = np.exp(-1*sigma*np.sqrt(ts))\n",
    "    \n",
    "    #1 time step backward multiplier\n",
    "    disc_1ts = np.exp(-1*r*ts)\n",
    "    \n",
    "    #Make a numpy tree for underlying asset: abc\n",
    "    abc_price = np.zeros([2*numsteps+1, numsteps+1])\n",
    "    abc_price[numsteps,0] = A_t_d\n",
    "    \n",
    "    for i in range( numsteps):\n",
    "        for j in range(2*numsteps+1):\n",
    "            if abc_price[j, i]!=0:\n",
    "                abc_price[j+1, i+1] = abc_price[j, i] * j_u\n",
    "                abc_price[j-1, i+1] = abc_price[j, i] * j_d\n",
    "                abc_price[j, i+1] = abc_price[j, i]\n",
    "            #abc_price[j, i] = A_t_d * (j_d**j)*(j_u**(i-j))\n",
    "    \n",
    "    #Make a numpy tree for xyz: option\n",
    "    xyz_price = np.zeros([2*numsteps+1, numsteps+1])\n",
    "    \n",
    "    #Leaf nodes correction\n",
    "    for j in range(2*numsteps+1):\n",
    "        xyz_price[j, numsteps] = max(abc_price[j, numsteps] - B, 0)\n",
    "        \n",
    "    #Internal Node Correction\n",
    "    for i in reversed(range(0, numsteps)):\n",
    "        for j in range(2*numsteps+1):\n",
    "            if abc_price[j, i]!=0:\n",
    "                xyz_price[j, i] = (p_u*xyz_price[j+1, i+1] + (1-p_u-p_d)*xyz_price[j, i+1] + p_d*xyz_price[j-1, i+1])*disc_1ts\n",
    "\n",
    "        #Un-comment this to print the whole xyz_pricing tree\n",
    "#     for row in xyz_price:\n",
    "#         for val in row:\n",
    "#             print(val, end=\" \")\n",
    "#         print()\n",
    "\n",
    "    return xyz_price[numsteps,0]\n",
    "price_xyz(30, 5, \"01Jul2021\", 0.02, 0.13, \"06Jan2021\", 5)"
   ]
  },
  {
   "cell_type": "code",
   "execution_count": 53,
   "metadata": {},
   "outputs": [
    {
     "name": "stdout",
     "output_type": "stream",
     "text": [
      "35.2\n",
      "0.0 0.0 0.0 0.0 0.0 0.0 \n",
      "0.0 0.0 0.0 0.0 0.0 0.0 \n",
      "0.0 0.0 0.0 0.7798639028859753 0.37827972759805284 0.0 \n",
      "0.0 0.0 2.531641330258995 2.779196810137277 2.644548074184935 1.4149300658387904 \n",
      "0.0 5.016929993129532 6.152605074762977 7.366377576931926 8.441422851740711 8.872559315972083 \n",
      "8.895721550493692 11.195617431043008 14.005285875788143 17.346792108940683 21.129921015416617 25.00000000000001 \n",
      "0.0 24.558710434348995 30.990156871841297 38.935152196260574 48.56933837454895 59.87627693642595 \n",
      "0.0 0.0 67.72084676499155 85.62089978386886 107.90824636005705 135.29771030439443 \n",
      "0.0 0.0 0.0 186.58081609979405 236.23116061248766 298.3997702418117 \n",
      "0.0 0.0 0.0 0.0 513.7349246901518 651.1149172218592 \n",
      "0.0 0.0 0.0 0.0 0.0 1413.8764357268503 \n",
      "35.2\n",
      "0.0 0.0 0.0 0.0 0.0 0.0 \n",
      "0.0 0.0 0.0 0.0 0.0 0.0 \n",
      "0.0 0.0 0.0 0.7798638748974951 0.3782797030463189 0.0 \n",
      "0.0 0.0 2.5316412859178126 2.779196758154956 2.644548013864644 1.4149299897197603 \n",
      "0.0 5.016929942978163 6.152605017009324 7.36637751109654 8.441422777387723 8.872559233666761 \n",
      "8.895721510734592 11.195617390618393 14.005285837253911 17.346792076280106 21.12992099466036 25.00000000000001 \n",
      "0.0 24.55871049439094 30.990156975940298 38.935152363888285 48.569338632494826 59.87627732133423 \n",
      "0.0 0.0 67.7208473954844 85.62090066161319 107.90824757276346 135.2977119691555 \n",
      "0.0 0.0 0.0 186.5808191121868 236.23116465123897 298.39977564198676 \n",
      "0.0 0.0 0.0 0.0 513.7349364867641 651.1149327926704 \n",
      "0.0 0.0 0.0 0.0 0.0 1413.8764778175282 \n",
      "-39.759099124125896\n"
     ]
    }
   ],
   "source": [
    "def volrisk_xyz(A_t_d, B, t_e, r, sigma, t_d, numsteps):\n",
    "    #Based on diffrentiation using the first principle\n",
    "    delta = 0.000000001\n",
    "    v1 = price_xyz(A_t_d, B, t_e, r, sigma, t_d, numsteps)\n",
    "    v2 = price_xyz(A_t_d, B, t_e, r, sigma+delta, t_d, numsteps)\n",
    "    return (v2-v1)/(delta)\n",
    "print(volrisk_xyz(30, 5, \"01Jul2021\", 0.02, 0.13, \"06Jan2021\", 5))"
   ]
  },
  {
   "cell_type": "code",
   "execution_count": null,
   "metadata": {},
   "outputs": [],
   "source": []
  }
 ],
 "metadata": {
  "kernelspec": {
   "display_name": "Python 3",
   "language": "python",
   "name": "python3"
  },
  "language_info": {
   "codemirror_mode": {
    "name": "ipython",
    "version": 3
   },
   "file_extension": ".py",
   "mimetype": "text/x-python",
   "name": "python",
   "nbconvert_exporter": "python",
   "pygments_lexer": "ipython3",
   "version": "3.7.6"
  }
 },
 "nbformat": 4,
 "nbformat_minor": 4
}
